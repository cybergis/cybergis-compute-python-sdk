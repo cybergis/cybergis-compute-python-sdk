{
 "cells": [
  {
   "cell_type": "markdown",
   "metadata": {},
   "source": [
    "# Hello World Notebook\n",
    "\n",
    "**Notebook Authors:** Zimo Xiao, Alexander Michels\n",
    "\n",
    "This is a short example notebook designed to demo the CyberGIS-Compute Python SDK UI with the Hello World notebook. Note that if you are viewing this on the [website](https://cybergis.github.io/cybergis-compute-python-sdk), you won't be able to fully interact with the UI. You can use the notebook on CyberGISX or CJW. [This notebook can be found here](https://github.com/cybergis/cybergis-compute-python-sdk/blob/v2/hello_world.ipynb)"
   ]
  },
  {
   "cell_type": "code",
   "execution_count": 1,
   "metadata": {},
   "outputs": [],
   "source": [
    "from cybergis_compute_client import CyberGISCompute\n",
    "\n",
    "cybergis = CyberGISCompute(url=\"cgjobsup.cigi.illinois.edu\", isJupyter=True, protocol=\"HTTPS\", port=443, suffix=\"v2\")"
   ]
  },
  {
   "cell_type": "code",
   "execution_count": 2,
   "metadata": {},
   "outputs": [
    {
     "data": {
      "application/vnd.jupyter.widget-view+json": {
       "model_id": "bd9334d060334f31b3bbdddcadac043f",
       "version_major": 2,
       "version_minor": 0
      },
      "text/plain": [
       "Tab(children=(Output(), Output(), Output(), Output()), _titles={'0': 'Job Configuration', '1': 'Your Job Statu…"
      ]
     },
     "metadata": {},
     "output_type": "display_data"
    }
   ],
   "source": [
    "cybergis.show_ui()"
   ]
  },
  {
   "cell_type": "code",
   "execution_count": null,
   "metadata": {},
   "outputs": [],
   "source": []
  }
 ],
 "metadata": {
  "interpreter": {
   "hash": "5926609cd90a2d94a42e09238288e2cffb196a8e75506a864a3e89f4f0cb4116"
  },
  "kernelspec": {
   "display_name": "Python 3",
   "language": "python",
   "name": "python3"
  },
  "language_info": {
   "codemirror_mode": {
    "name": "ipython",
    "version": 3
   },
   "file_extension": ".py",
   "mimetype": "text/x-python",
   "name": "python",
   "nbconvert_exporter": "python",
   "pygments_lexer": "ipython3",
   "version": "3.8.12"
  },
  "widgets": {
   "application/vnd.jupyter.widget-state+json": {
    "state": {
     "0077c0f6ab484feeb2a16352ee30b076": {
      "model_module": "@jupyter-widgets/controls",
      "model_module_version": "1.5.0",
      "model_name": "AccordionModel",
      "state": {
       "_titles": {
        "0": "Input Parameters"
       },
       "children": [
        "IPY_MODEL_52f0f497b8c34aa28ac3294af0206153"
       ],
       "layout": "IPY_MODEL_34b312b17cba4a9298b22950526d324b",
       "selected_index": null
      }
     },
     "018258b76920445eb7dfcbd7799d9d5e": {
      "model_module": "@jupyter-widgets/base",
      "model_module_version": "1.2.0",
      "model_name": "LayoutModel",
      "state": {}
     },
     "025ead00aed84677bf2783bbebe4de3b": {
      "model_module": "@jupyter-widgets/controls",
      "model_module_version": "1.5.0",
      "model_name": "IntSliderModel",
      "state": {
       "continuous_update": false,
       "description": "num_of_task",
       "layout": "IPY_MODEL_ff57977ec28349a8bc7e67d744aa158d",
       "max": 6,
       "min": 1,
       "style": "IPY_MODEL_2889d70a11ac43d6a59bd830a290c578",
       "value": 2
      }
     },
     "0313661217494091a85699e6ab4f4c7c": {
      "model_module": "@jupyter-widgets/output",
      "model_module_version": "1.0.0",
      "model_name": "OutputModel",
      "state": {
       "layout": "IPY_MODEL_7e4ad3c81e4d427899b02a55f07039a3",
       "outputs": [
        {
         "data": {
          "application/vnd.jupyter.widget-view+json": {
           "model_id": "13cd9b51ebd24e2a8eba72d6a2b6e035",
           "version_major": 2,
           "version_minor": 0
          },
          "text/plain": "Accordion(children=(VBox(children=(Label(value='All configs are optional. Please refer to Slurm official docum…"
         },
         "metadata": {},
         "output_type": "display_data"
        }
       ]
      }
     },
     "09bc19be0023454a86c7ab755062bfce": {
      "model_module": "@jupyter-widgets/controls",
      "model_module_version": "1.5.0",
      "model_name": "ButtonStyleModel",
      "state": {}
     },
     "0da077fa6eec4b7c894f30bc7462d37b": {
      "model_module": "@jupyter-widgets/controls",
      "model_module_version": "1.5.0",
      "model_name": "ButtonStyleModel",
      "state": {}
     },
     "1188a8ad4cc74de68adb8e59aecc4781": {
      "model_module": "@jupyter-widgets/base",
      "model_module_version": "1.2.0",
      "model_name": "LayoutModel",
      "state": {}
     },
     "1329312a77f848558068b4816300d6ad": {
      "model_module": "@jupyter-widgets/controls",
      "model_module_version": "1.5.0",
      "model_name": "ButtonModel",
      "state": {
       "description": "Download",
       "layout": "IPY_MODEL_ff8840ddbcb74cf185442667f93e35e4",
       "style": "IPY_MODEL_b15c6f0073374f94a5ea9850ee3706d8"
      }
     },
     "1337c0137692483796f8f724a0e9b030": {
      "model_module": "@jupyter-widgets/output",
      "model_module_version": "1.0.0",
      "model_name": "OutputModel",
      "state": {
       "layout": "IPY_MODEL_d84174a712344e9b9394f9b31dd94b99",
       "outputs": [
        {
         "data": {
          "application/vnd.jupyter.widget-view+json": {
           "model_id": "cbeac4fe89fb4754b7fdc2504558dad8",
           "version_major": 2,
           "version_minor": 0
          },
          "text/plain": "Dropdown(description='📦 Job Templates:', index=5, layout=Layout(width='60%'), options=('wrfhydro-5.x', 'summa3…"
         },
         "metadata": {},
         "output_type": "display_data"
        }
       ]
      }
     },
     "13cd9b51ebd24e2a8eba72d6a2b6e035": {
      "model_module": "@jupyter-widgets/controls",
      "model_module_version": "1.5.0",
      "model_name": "AccordionModel",
      "state": {
       "_titles": {
        "0": "Slurm Computing Configurations"
       },
       "children": [
        "IPY_MODEL_c588c8c40a0c401ea2c1da59290ab24f"
       ],
       "layout": "IPY_MODEL_1eacad7e41cd4b4896223e55e4966516",
       "selected_index": null
      }
     },
     "184436cf90914fb09615dfde62103022": {
      "model_module": "@jupyter-widgets/base",
      "model_module_version": "1.2.0",
      "model_name": "LayoutModel",
      "state": {}
     },
     "19a2822ed46745318061f8a9d4e89498": {
      "model_module": "@jupyter-widgets/output",
      "model_module_version": "1.0.0",
      "model_name": "OutputModel",
      "state": {
       "layout": "IPY_MODEL_523de15c2d1d46eda0ae73b16761cab9",
       "outputs": [
        {
         "name": "stdout",
         "output_type": "stream",
         "text": "📃 Found \"cybergis_compute_user.json\"\nNOTE: if you want to login as another user, please remove this file\n🎯 Logged in as alexandermichels@cybergisx.cigi.illinois.edu\n"
        }
       ]
      }
     },
     "1eacad7e41cd4b4896223e55e4966516": {
      "model_module": "@jupyter-widgets/base",
      "model_module_version": "1.2.0",
      "model_name": "LayoutModel",
      "state": {}
     },
     "1f1c446717e9426b83c2abdcf3083c5d": {
      "model_module": "@jupyter-widgets/base",
      "model_module_version": "1.2.0",
      "model_name": "LayoutModel",
      "state": {}
     },
     "2262ea6ae2f34b1a8911069a91d3ff49": {
      "model_module": "@jupyter-widgets/output",
      "model_module_version": "1.0.0",
      "model_name": "OutputModel",
      "state": {
       "layout": "IPY_MODEL_e6057c03804641a7843852500fff5769",
       "outputs": [
        {
         "data": {
          "application/vnd.jupyter.widget-view+json": {
           "model_id": "0077c0f6ab484feeb2a16352ee30b076",
           "version_major": 2,
           "version_minor": 0
          },
          "text/plain": "Accordion(children=(VBox(children=(IntSlider(value=50, continuous_update=False, description='input_a', layout=…"
         },
         "metadata": {},
         "output_type": "display_data"
        }
       ]
      }
     },
     "2675b7e2cb7545e9a3b5ffb47213f801": {
      "model_module": "@jupyter-widgets/output",
      "model_module_version": "1.0.0",
      "model_name": "OutputModel",
      "state": {
       "layout": "IPY_MODEL_b5fcc370ab0747d294fd16094f7d73dd",
       "outputs": [
        {
         "data": {
          "application/vnd.jupyter.widget-view+json": {
           "model_id": "742f0a2fc5334a16a8451fae7764807c",
           "version_major": 2,
           "version_minor": 0
          },
          "text/plain": "Output()"
         },
         "metadata": {},
         "output_type": "display_data"
        },
        {
         "data": {
          "application/vnd.jupyter.widget-view+json": {
           "model_id": "eb675e0937b44d7081b32688fc74ddd5",
           "version_major": 2,
           "version_minor": 0
          },
          "text/plain": "Output()"
         },
         "metadata": {},
         "output_type": "display_data"
        }
       ]
      }
     },
     "26ca9795c1cb4ad88d0219f08eccb23b": {
      "model_module": "@jupyter-widgets/controls",
      "model_module_version": "1.5.0",
      "model_name": "ButtonStyleModel",
      "state": {}
     },
     "27cfe786734246c7855a220e9a076177": {
      "model_module": "@jupyter-widgets/controls",
      "model_module_version": "1.5.0",
      "model_name": "ButtonModel",
      "state": {
       "description": "Download",
       "disabled": true,
       "layout": "IPY_MODEL_39e832a4133e428d941cd05fa086de98",
       "style": "IPY_MODEL_2cc724cdc18740769a8c09f6428b13d6"
      }
     },
     "286c93b70b7c4863994e88dc2cf1c00d": {
      "model_module": "@jupyter-widgets/base",
      "model_module_version": "1.2.0",
      "model_name": "LayoutModel",
      "state": {}
     },
     "2889d70a11ac43d6a59bd830a290c578": {
      "model_module": "@jupyter-widgets/controls",
      "model_module_version": "1.5.0",
      "model_name": "SliderStyleModel",
      "state": {
       "description_width": "auto"
      }
     },
     "2cc724cdc18740769a8c09f6428b13d6": {
      "model_module": "@jupyter-widgets/controls",
      "model_module_version": "1.5.0",
      "model_name": "ButtonStyleModel",
      "state": {}
     },
     "2e30dd0cfc7f4ea1b14aef55c16c666a": {
      "model_module": "@jupyter-widgets/base",
      "model_module_version": "1.2.0",
      "model_name": "LayoutModel",
      "state": {}
     },
     "3190a2e694d0422a9ee279985b9d8032": {
      "model_module": "@jupyter-widgets/output",
      "model_module_version": "1.0.0",
      "model_name": "OutputModel",
      "state": {
       "layout": "IPY_MODEL_c701b466a9f4419787d5d5ded866711e",
       "outputs": [
        {
         "data": {
          "application/vnd.jupyter.widget-view+json": {
           "model_id": "6ebff571680248108cfd06cdf1f4b2b4",
           "version_major": 2,
           "version_minor": 0
          },
          "text/plain": "Output()"
         },
         "metadata": {},
         "output_type": "display_data"
        },
        {
         "data": {
          "application/vnd.jupyter.widget-view+json": {
           "model_id": "646a24d4b2c84a8e9c2018701a15d573",
           "version_major": 2,
           "version_minor": 0
          },
          "text/plain": "Button(description='Job Submitted ✅', disabled=True, style=ButtonStyle())"
         },
         "metadata": {},
         "output_type": "display_data"
        }
       ]
      }
     },
     "34366cb293d04d3db77c8428b4671efa": {
      "model_module": "@jupyter-widgets/controls",
      "model_module_version": "1.5.0",
      "model_name": "ButtonModel",
      "state": {
       "description": "Restore",
       "layout": "IPY_MODEL_d75a5e7c4b1e44c399de820789dde269",
       "style": "IPY_MODEL_76639afba39d412cacdcde93951748ea"
      }
     },
     "34b312b17cba4a9298b22950526d324b": {
      "model_module": "@jupyter-widgets/base",
      "model_module_version": "1.2.0",
      "model_name": "LayoutModel",
      "state": {}
     },
     "37b4fe349bf74648b8ed06b8a5006e97": {
      "model_module": "@jupyter-widgets/controls",
      "model_module_version": "1.5.0",
      "model_name": "SliderStyleModel",
      "state": {
       "description_width": "auto"
      }
     },
     "395255e39ceb4dd696284637561bc0df": {
      "model_module": "@jupyter-widgets/base",
      "model_module_version": "1.2.0",
      "model_name": "LayoutModel",
      "state": {}
     },
     "39e832a4133e428d941cd05fa086de98": {
      "model_module": "@jupyter-widgets/base",
      "model_module_version": "1.2.0",
      "model_name": "LayoutModel",
      "state": {}
     },
     "3b15f58ddc854e19adcd632c68f1adff": {
      "model_module": "@jupyter-widgets/controls",
      "model_module_version": "1.5.0",
      "model_name": "AccordionModel",
      "state": {
       "_titles": {
        "0": "Computing Resource"
       },
       "children": [
        "IPY_MODEL_c599c5c5e6794b6ba92d70a607501d1f"
       ],
       "layout": "IPY_MODEL_4b41736c2f8e4303b0008687f5912e3c",
       "selected_index": null
      }
     },
     "3b36ef027ab7460f95a87b93a798f344": {
      "model_module": "@jupyter-widgets/output",
      "model_module_version": "1.0.0",
      "model_name": "OutputModel",
      "state": {
       "layout": "IPY_MODEL_f314f314cc2e42fea2a51ac80a422c59",
       "outputs": [
        {
         "data": {
          "application/vnd.jupyter.widget-view+json": {
           "model_id": "3b15f58ddc854e19adcd632c68f1adff",
           "version_major": 2,
           "version_minor": 0
          },
          "text/plain": "Accordion(children=(Dropdown(description='🖥 Computing Resource:', layout=Layout(width='60%'), options=('keelin…"
         },
         "metadata": {},
         "output_type": "display_data"
        }
       ]
      }
     },
     "3bcac76de11342d3919a6e7e19fb2881": {
      "model_module": "@jupyter-widgets/output",
      "model_module_version": "1.0.0",
      "model_name": "OutputModel",
      "state": {
       "layout": "IPY_MODEL_bad0014e6e174460b8ca214b32137ffd",
       "outputs": [
        {
         "data": {
          "application/vnd.jupyter.widget-view+json": {
           "model_id": "89c7dcec85f644749df624c68d36d414",
           "version_major": 2,
           "version_minor": 0
          },
          "text/plain": "Output()"
         },
         "metadata": {},
         "output_type": "display_data"
        },
        {
         "data": {
          "text/markdown": "***",
          "text/plain": "<IPython.core.display.Markdown object>"
         },
         "metadata": {},
         "output_type": "display_data"
        },
        {
         "data": {
          "text/markdown": "## 📋 job events (live refresh)",
          "text/plain": "<IPython.core.display.Markdown object>"
         },
         "metadata": {},
         "output_type": "display_data"
        },
        {
         "data": {
          "application/vnd.jupyter.widget-view+json": {
           "model_id": "e8c728af59bc45f8af0a8631255a4195",
           "version_major": 2,
           "version_minor": 0
          },
          "text/plain": "Output()"
         },
         "metadata": {},
         "output_type": "display_data"
        },
        {
         "data": {
          "text/markdown": "***",
          "text/plain": "<IPython.core.display.Markdown object>"
         },
         "metadata": {},
         "output_type": "display_data"
        },
        {
         "data": {
          "text/markdown": "## 📋 job logs",
          "text/plain": "<IPython.core.display.Markdown object>"
         },
         "metadata": {},
         "output_type": "display_data"
        },
        {
         "data": {
          "application/vnd.jupyter.widget-view+json": {
           "model_id": "b6d01ed816be4b05b7db7b8061d3f408",
           "version_major": 2,
           "version_minor": 0
          },
          "text/plain": "Output()"
         },
         "metadata": {},
         "output_type": "display_data"
        }
       ]
      }
     },
     "3c07851aec63401ca28de2b5608fc916": {
      "model_module": "@jupyter-widgets/base",
      "model_module_version": "1.2.0",
      "model_name": "LayoutModel",
      "state": {}
     },
     "3cda379c46214bac85c20dbeeaf75aa2": {
      "model_module": "@jupyter-widgets/base",
      "model_module_version": "1.2.0",
      "model_name": "LayoutModel",
      "state": {}
     },
     "3f686d218b864bfcb244c8e1b4ff9034": {
      "model_module": "@jupyter-widgets/base",
      "model_module_version": "1.2.0",
      "model_name": "LayoutModel",
      "state": {}
     },
     "4363217591e340beac776949b33e9a3b": {
      "model_module": "@jupyter-widgets/base",
      "model_module_version": "1.2.0",
      "model_name": "LayoutModel",
      "state": {}
     },
     "476e47230217441ca971aed0cde5bb8f": {
      "model_module": "@jupyter-widgets/controls",
      "model_module_version": "1.5.0",
      "model_name": "VBoxModel",
      "state": {
       "children": [
        "IPY_MODEL_025ead00aed84677bf2783bbebe4de3b",
        "IPY_MODEL_e28457b5a9e54de9aa6f3286b45df08c"
       ],
       "layout": "IPY_MODEL_b7dad9940db546229b38a8bddf399b20"
      }
     },
     "48297feeca2f49aab35e5422a74e567d": {
      "model_module": "@jupyter-widgets/base",
      "model_module_version": "1.2.0",
      "model_name": "LayoutModel",
      "state": {}
     },
     "492cf1d11cde4e24bdd88cdafd19f4e1": {
      "model_module": "@jupyter-widgets/base",
      "model_module_version": "1.2.0",
      "model_name": "LayoutModel",
      "state": {}
     },
     "49d1dbb13b4b43d695612f50358973e2": {
      "model_module": "@jupyter-widgets/base",
      "model_module_version": "1.2.0",
      "model_name": "LayoutModel",
      "state": {}
     },
     "4b41736c2f8e4303b0008687f5912e3c": {
      "model_module": "@jupyter-widgets/base",
      "model_module_version": "1.2.0",
      "model_name": "LayoutModel",
      "state": {}
     },
     "4b7e3df27d894531a7de8a634a7761c2": {
      "model_module": "@jupyter-widgets/base",
      "model_module_version": "1.2.0",
      "model_name": "LayoutModel",
      "state": {}
     },
     "507ea798ed4b48c1865f73104065c695": {
      "model_module": "@jupyter-widgets/base",
      "model_module_version": "1.2.0",
      "model_name": "LayoutModel",
      "state": {}
     },
     "515f52146a044a95806f9c5a47899584": {
      "model_module": "@jupyter-widgets/controls",
      "model_module_version": "1.5.0",
      "model_name": "CheckboxModel",
      "state": {
       "description": "receive email on job status? ",
       "disabled": false,
       "layout": "IPY_MODEL_9f4290479819451f86f6fa00c478df85",
       "style": "IPY_MODEL_917c5e71ff02478eb80be87ec7f274c2",
       "value": false
      }
     },
     "523b39ec97a649e2b8f7fada487eaf19": {
      "model_module": "@jupyter-widgets/base",
      "model_module_version": "1.2.0",
      "model_name": "LayoutModel",
      "state": {}
     },
     "523de15c2d1d46eda0ae73b16761cab9": {
      "model_module": "@jupyter-widgets/base",
      "model_module_version": "1.2.0",
      "model_name": "LayoutModel",
      "state": {}
     },
     "52f0f497b8c34aa28ac3294af0206153": {
      "model_module": "@jupyter-widgets/controls",
      "model_module_version": "1.5.0",
      "model_name": "VBoxModel",
      "state": {
       "children": [
        "IPY_MODEL_90fdc1763b834ddd983a5e496b15389a",
        "IPY_MODEL_9e47465a64b146e189bc34f3ec8b2dfa"
       ],
       "layout": "IPY_MODEL_ac55fadfe0984e019815f6d3396dc023"
      }
     },
     "53f2957fb4b0478d983756bfd9547e7d": {
      "model_module": "@jupyter-widgets/controls",
      "model_module_version": "1.5.0",
      "model_name": "DescriptionStyleModel",
      "state": {
       "description_width": "auto"
      }
     },
     "5922684f84234961a8184801e47eff56": {
      "model_module": "@jupyter-widgets/base",
      "model_module_version": "1.2.0",
      "model_name": "LayoutModel",
      "state": {}
     },
     "5944c9505767426bb324d3a634fc278a": {
      "model_module": "@jupyter-widgets/base",
      "model_module_version": "1.2.0",
      "model_name": "LayoutModel",
      "state": {}
     },
     "5bfd2aad634a46b699be802d0c80dfbd": {
      "model_module": "@jupyter-widgets/controls",
      "model_module_version": "1.5.0",
      "model_name": "HBoxModel",
      "state": {
       "children": [
        "IPY_MODEL_515f52146a044a95806f9c5a47899584",
        "IPY_MODEL_739576b80c7b47568e922bd5f0aa75c1"
       ],
       "layout": "IPY_MODEL_e0a095d085f146eda759d80e1760b197"
      }
     },
     "618b1409cd4c4d68a9144a6bb1feceb4": {
      "model_module": "@jupyter-widgets/controls",
      "model_module_version": "1.5.0",
      "model_name": "ButtonModel",
      "state": {
       "description": "Restore",
       "layout": "IPY_MODEL_6777e55774af48a6b7d1d05cdc56b27d",
       "style": "IPY_MODEL_6cebfb0dc18b41ef978856f62f945972"
      }
     },
     "61ccf82c52184e68afed6999a046c2b3": {
      "model_module": "@jupyter-widgets/output",
      "model_module_version": "1.0.0",
      "model_name": "OutputModel",
      "state": {
       "layout": "IPY_MODEL_4b7e3df27d894531a7de8a634a7761c2",
       "outputs": [
        {
         "data": {
          "text/markdown": "# ☁️ Download Job Output Files",
          "text/plain": "<IPython.core.display.Markdown object>"
         },
         "metadata": {},
         "output_type": "display_data"
        },
        {
         "data": {
          "application/vnd.jupyter.widget-view+json": {
           "model_id": "f3cfd86bbb3143eeba708fba2581bf6d",
           "version_major": 2,
           "version_minor": 0
          },
          "text/plain": "Output()"
         },
         "metadata": {},
         "output_type": "display_data"
        },
        {
         "data": {
          "application/vnd.jupyter.widget-view+json": {
           "model_id": "7d38d240afd143fc9f30f658b19cfde9",
           "version_major": 2,
           "version_minor": 0
          },
          "text/plain": "Output()"
         },
         "metadata": {},
         "output_type": "display_data"
        },
        {
         "data": {
          "application/vnd.jupyter.widget-view+json": {
           "model_id": "ea976836ba364e0eaa3701224abfa79c",
           "version_major": 2,
           "version_minor": 0
          },
          "text/plain": "Dropdown(description='select file/folder', options=('/demo_quick_start_0', '/', '/slurm_log', '/demo_quick_sta…"
         },
         "metadata": {},
         "output_type": "display_data"
        },
        {
         "data": {
          "application/vnd.jupyter.widget-view+json": {
           "model_id": "1329312a77f848558068b4816300d6ad",
           "version_major": 2,
           "version_minor": 0
          },
          "text/plain": "Button(description='Download', style=ButtonStyle())"
         },
         "metadata": {},
         "output_type": "display_data"
        }
       ]
      }
     },
     "6429941133a74f4ca8cc7749b69f4294": {
      "model_module": "@jupyter-widgets/controls",
      "model_module_version": "1.5.0",
      "model_name": "ButtonStyleModel",
      "state": {}
     },
     "646a24d4b2c84a8e9c2018701a15d573": {
      "model_module": "@jupyter-widgets/controls",
      "model_module_version": "1.5.0",
      "model_name": "ButtonModel",
      "state": {
       "description": "Job Submitted ✅",
       "disabled": true,
       "layout": "IPY_MODEL_492cf1d11cde4e24bdd88cdafd19f4e1",
       "style": "IPY_MODEL_f075a3dbad914d979148b7f8b3e62df4"
      }
     },
     "6777e55774af48a6b7d1d05cdc56b27d": {
      "model_module": "@jupyter-widgets/base",
      "model_module_version": "1.2.0",
      "model_name": "LayoutModel",
      "state": {}
     },
     "6b2a3fb3d62949d495bddf428fbe2ad4": {
      "model_module": "@jupyter-widgets/controls",
      "model_module_version": "1.5.0",
      "model_name": "ButtonStyleModel",
      "state": {}
     },
     "6bd464682e89478a8b8922900841778b": {
      "model_module": "@jupyter-widgets/controls",
      "model_module_version": "1.5.0",
      "model_name": "ButtonStyleModel",
      "state": {}
     },
     "6c2f38da7cfa4c569b627d63804a19c0": {
      "model_module": "@jupyter-widgets/controls",
      "model_module_version": "1.5.0",
      "model_name": "ButtonStyleModel",
      "state": {}
     },
     "6cebfb0dc18b41ef978856f62f945972": {
      "model_module": "@jupyter-widgets/controls",
      "model_module_version": "1.5.0",
      "model_name": "ButtonStyleModel",
      "state": {}
     },
     "6ebff571680248108cfd06cdf1f4b2b4": {
      "model_module": "@jupyter-widgets/output",
      "model_module_version": "1.0.0",
      "model_name": "OutputModel",
      "state": {
       "layout": "IPY_MODEL_78c7d654ce26431698189c18d4978619"
      }
     },
     "6ee8f8a1224043a3878685aa691e8407": {
      "model_module": "@jupyter-widgets/controls",
      "model_module_version": "1.5.0",
      "model_name": "ButtonModel",
      "state": {
       "description": "Restore",
       "layout": "IPY_MODEL_395255e39ceb4dd696284637561bc0df",
       "style": "IPY_MODEL_e767d13d507d48c7ba064b9f5c78b6e7"
      }
     },
     "6f1606e72e1a4d119f0b887e5496f23f": {
      "model_module": "@jupyter-widgets/controls",
      "model_module_version": "1.5.0",
      "model_name": "LabelModel",
      "state": {
       "layout": "IPY_MODEL_aae3bd19cbc14348815dd89437140b88",
       "style": "IPY_MODEL_d00789fa87dc4d5b9d0fd81bac847101",
       "value": "All configs are optional. Please refer to Slurm official documentation at 🔗 https://slurm.schedmd.com/sbatch.html"
      }
     },
     "735b21efeef645209eb9a88f2acbc14c": {
      "model_module": "@jupyter-widgets/controls",
      "model_module_version": "1.5.0",
      "model_name": "ButtonModel",
      "state": {
       "description": "Load More",
       "layout": "IPY_MODEL_286c93b70b7c4863994e88dc2cf1c00d",
       "style": "IPY_MODEL_0da077fa6eec4b7c894f30bc7462d37b"
      }
     },
     "739576b80c7b47568e922bd5f0aa75c1": {
      "model_module": "@jupyter-widgets/controls",
      "model_module_version": "1.5.0",
      "model_name": "TextModel",
      "state": {
       "layout": "IPY_MODEL_af372647a97c4b83b50d98567453bbf3",
       "style": "IPY_MODEL_bfa1bfdd17b045dca496eeb33f4bda28",
       "value": "example@illinois.edu"
      }
     },
     "742f0a2fc5334a16a8451fae7764807c": {
      "model_module": "@jupyter-widgets/output",
      "model_module_version": "1.0.0",
      "model_name": "OutputModel",
      "state": {
       "layout": "IPY_MODEL_3cda379c46214bac85c20dbeeaf75aa2",
       "outputs": [
        {
         "data": {
          "text/markdown": "**Recently Submitted Jobs for alexandermichels**",
          "text/plain": "<IPython.core.display.Markdown object>"
         },
         "metadata": {},
         "output_type": "display_data"
        },
        {
         "data": {
          "text/markdown": "| id | slurmId | hpc | remoteExecutableFolder | remoteDataFolder | remoteResultFolder | \n| --- | --- | --- | --- | --- | --- | \n| 1662232891AH8p5 | 913912 | keeling_community | {'id': '16622328929OHyW', 'name': None, 'hpc': 'keeling_community', 'hpcPath': '/data/keeling/a/cigi-gisolve/scratch/16622328929OHyW', 'globusPath': '/16622328929OHyW', 'userId': 'alexandermichels@cybergisx.cigi.illinois.edu', 'isWritable': False, 'createdAt': '2022-09-03T19:21:35.154Z', 'updatedAt': None, 'deletedAt': None} | None | {'id': '1662232895gkXa1', 'name': None, 'hpc': 'keeling_community', 'hpcPath': '/data/keeling/a/cigi-gisolve/scratch/1662232895gkXa1', 'globusPath': '/1662232895gkXa1', 'userId': 'alexandermichels@cybergisx.cigi.illinois.edu', 'isWritable': False, 'createdAt': '2022-09-03T19:21:35.554Z', 'updatedAt': None, 'deletedAt': None} | ",
          "text/plain": "<IPython.core.display.Markdown object>"
         },
         "metadata": {},
         "output_type": "display_data"
        },
        {
         "data": {
          "text/markdown": "| param | slurm | userId | maintainer | createdAt | modelName | \n| --- | --- | --- | --- | --- | --- | \n| {\"input_a\": 50, \"input_b\": \"foo\"} | {\"time\": \"10:00\", \"num_of_task\": 2, \"cpu_per_task\": 1} | alexandermichels@cybergisx.cigi.illinois.edu | community_contribution | 2022-09-03T19:21:30.729Z | hello_world | ",
          "text/plain": "<IPython.core.display.Markdown object>"
         },
         "metadata": {},
         "output_type": "display_data"
        },
        {
         "data": {
          "application/vnd.jupyter.widget-view+json": {
           "model_id": "c42b07fd81a84704a9127666e5233a3c",
           "version_major": 2,
           "version_minor": 0
          },
          "text/plain": "Button(description='Restore', style=ButtonStyle())"
         },
         "metadata": {},
         "output_type": "display_data"
        },
        {
         "data": {
          "text/markdown": "| id | slurmId | hpc | remoteExecutableFolder | remoteDataFolder | remoteResultFolder | \n| --- | --- | --- | --- | --- | --- | \n| 1662232821m8EEa | 913911 | keeling_community | {'id': '16622328232eUww', 'name': None, 'hpc': 'keeling_community', 'hpcPath': '/data/keeling/a/cigi-gisolve/scratch/16622328232eUww', 'globusPath': '/16622328232eUww', 'userId': 'alexandermichels@cybergisx.cigi.illinois.edu', 'isWritable': False, 'createdAt': '2022-09-03T19:20:26.223Z', 'updatedAt': None, 'deletedAt': None} | None | {'id': '1662232826adrig', 'name': None, 'hpc': 'keeling_community', 'hpcPath': '/data/keeling/a/cigi-gisolve/scratch/1662232826adrig', 'globusPath': '/1662232826adrig', 'userId': 'alexandermichels@cybergisx.cigi.illinois.edu', 'isWritable': False, 'createdAt': '2022-09-03T19:20:26.599Z', 'updatedAt': None, 'deletedAt': None} | ",
          "text/plain": "<IPython.core.display.Markdown object>"
         },
         "metadata": {},
         "output_type": "display_data"
        },
        {
         "data": {
          "text/markdown": "| param | slurm | userId | maintainer | createdAt | modelName | \n| --- | --- | --- | --- | --- | --- | \n| {\"input_a\": 50, \"input_b\": \"foo\"} | {\"time\": \"10:00\", \"num_of_task\": 2, \"cpu_per_task\": 1} | alexandermichels@cybergisx.cigi.illinois.edu | community_contribution | 2022-09-03T19:20:21.082Z | hello_world | ",
          "text/plain": "<IPython.core.display.Markdown object>"
         },
         "metadata": {},
         "output_type": "display_data"
        },
        {
         "data": {
          "application/vnd.jupyter.widget-view+json": {
           "model_id": "f89a6f9fdef9413ea588d80b7ebeea68",
           "version_major": 2,
           "version_minor": 0
          },
          "text/plain": "Button(description='Restore', style=ButtonStyle())"
         },
         "metadata": {},
         "output_type": "display_data"
        },
        {
         "data": {
          "text/markdown": "| id | slurmId | hpc | remoteExecutableFolder | remoteDataFolder | remoteResultFolder | \n| --- | --- | --- | --- | --- | --- | \n| 1662051863nVqSR | 913022 | keeling_community | {'id': '1662051867Fiuj1', 'name': None, 'hpc': 'keeling_community', 'hpcPath': '/data/keeling/a/cigi-gisolve/scratch/1662051867Fiuj1', 'globusPath': '/1662051867Fiuj1', 'userId': 'alexandermichels@cybergisx.cigi.illinois.edu', 'isWritable': False, 'createdAt': '2022-09-01T17:04:27.880Z', 'updatedAt': None, 'deletedAt': None} | None | {'id': '1662051868U9dnP', 'name': None, 'hpc': 'keeling_community', 'hpcPath': '/data/keeling/a/cigi-gisolve/scratch/1662051868U9dnP', 'globusPath': '/1662051868U9dnP', 'userId': 'alexandermichels@cybergisx.cigi.illinois.edu', 'isWritable': False, 'createdAt': '2022-09-01T17:04:28.165Z', 'updatedAt': None, 'deletedAt': None} | ",
          "text/plain": "<IPython.core.display.Markdown object>"
         },
         "metadata": {},
         "output_type": "display_data"
        },
        {
         "data": {
          "text/markdown": "| param | slurm | userId | maintainer | createdAt | modelName | \n| --- | --- | --- | --- | --- | --- | \n| {\"input_a\": 100, \"input_b\": \"bar\"} | {\"time\": \"10:00\", \"num_of_task\": 2, \"cpu_per_task\": 1} | alexandermichels@cybergisx.cigi.illinois.edu | community_contribution | 2022-09-01T17:04:23.442Z | hello_world | ",
          "text/plain": "<IPython.core.display.Markdown object>"
         },
         "metadata": {},
         "output_type": "display_data"
        },
        {
         "data": {
          "application/vnd.jupyter.widget-view+json": {
           "model_id": "be5f71b9a799400b8c321001d6ba98fa",
           "version_major": 2,
           "version_minor": 0
          },
          "text/plain": "Button(description='Restore', style=ButtonStyle())"
         },
         "metadata": {},
         "output_type": "display_data"
        },
        {
         "data": {
          "text/markdown": "| id | slurmId | hpc | remoteExecutableFolder | remoteDataFolder | remoteResultFolder | \n| --- | --- | --- | --- | --- | --- | \n| 1662051666N6CHN | 913021 | keeling_community | {'id': '1662051668Pxag6', 'name': None, 'hpc': 'keeling_community', 'hpcPath': '/data/keeling/a/cigi-gisolve/scratch/1662051668Pxag6', 'globusPath': '/1662051668Pxag6', 'userId': 'alexandermichels@cybergisx.cigi.illinois.edu', 'isWritable': False, 'createdAt': '2022-09-01T17:01:09.705Z', 'updatedAt': None, 'deletedAt': None} | None | {'id': '1662051670w6Ktd', 'name': None, 'hpc': 'keeling_community', 'hpcPath': '/data/keeling/a/cigi-gisolve/scratch/1662051670w6Ktd', 'globusPath': '/1662051670w6Ktd', 'userId': 'alexandermichels@cybergisx.cigi.illinois.edu', 'isWritable': False, 'createdAt': '2022-09-01T17:01:10.015Z', 'updatedAt': None, 'deletedAt': None} | ",
          "text/plain": "<IPython.core.display.Markdown object>"
         },
         "metadata": {},
         "output_type": "display_data"
        },
        {
         "data": {
          "text/markdown": "| param | slurm | userId | maintainer | createdAt | modelName | \n| --- | --- | --- | --- | --- | --- | \n| {\"input_a\": 100, \"input_b\": \"bar\"} | {\"time\": \"10:00\", \"num_of_task\": 2, \"cpu_per_task\": 1} | alexandermichels@cybergisx.cigi.illinois.edu | community_contribution | 2022-09-01T17:01:06.394Z | hello_world | ",
          "text/plain": "<IPython.core.display.Markdown object>"
         },
         "metadata": {},
         "output_type": "display_data"
        },
        {
         "data": {
          "application/vnd.jupyter.widget-view+json": {
           "model_id": "cd3b32fa19674a9fbac8cf19716d258c",
           "version_major": 2,
           "version_minor": 0
          },
          "text/plain": "Button(description='Restore', style=ButtonStyle())"
         },
         "metadata": {},
         "output_type": "display_data"
        },
        {
         "data": {
          "text/markdown": "| id | slurmId | hpc | remoteExecutableFolder | remoteDataFolder | remoteResultFolder | \n| --- | --- | --- | --- | --- | --- | \n| 1662050293sAkEp | 913020 | keeling_community | {'id': '1662050296LBy28', 'name': None, 'hpc': 'keeling_community', 'hpcPath': '/data/keeling/a/cigi-gisolve/scratch/1662050296LBy28', 'globusPath': '/1662050296LBy28', 'userId': 'alexandermichels@cybergisx.cigi.illinois.edu', 'isWritable': False, 'createdAt': '2022-09-01T16:38:17.617Z', 'updatedAt': None, 'deletedAt': None} | None | {'id': '1662050298iF6LI', 'name': None, 'hpc': 'keeling_community', 'hpcPath': '/data/keeling/a/cigi-gisolve/scratch/1662050298iF6LI', 'globusPath': '/1662050298iF6LI', 'userId': 'alexandermichels@cybergisx.cigi.illinois.edu', 'isWritable': False, 'createdAt': '2022-09-01T16:38:17.997Z', 'updatedAt': None, 'deletedAt': None} | ",
          "text/plain": "<IPython.core.display.Markdown object>"
         },
         "metadata": {},
         "output_type": "display_data"
        },
        {
         "data": {
          "text/markdown": "| param | slurm | userId | maintainer | createdAt | modelName | \n| --- | --- | --- | --- | --- | --- | \n| {\"input_a\": 100, \"input_b\": \"bar\"} | {\"time\": \"10:00\", \"num_of_task\": 2, \"cpu_per_task\": 1} | alexandermichels@cybergisx.cigi.illinois.edu | community_contribution | 2022-09-01T16:38:13.213Z | hello_world | ",
          "text/plain": "<IPython.core.display.Markdown object>"
         },
         "metadata": {},
         "output_type": "display_data"
        },
        {
         "data": {
          "application/vnd.jupyter.widget-view+json": {
           "model_id": "dad2d415bf3f4927b9bb1a3d5087bbd6",
           "version_major": 2,
           "version_minor": 0
          },
          "text/plain": "Button(description='Restore', style=ButtonStyle())"
         },
         "metadata": {},
         "output_type": "display_data"
        }
       ]
      }
     },
     "7472d39e87264124a59d906358130db8": {
      "model_module": "@jupyter-widgets/output",
      "model_module_version": "1.0.0",
      "model_name": "OutputModel",
      "state": {
       "layout": "IPY_MODEL_523b39ec97a649e2b8f7fada487eaf19",
       "outputs": [
        {
         "data": {
          "application/vnd.jupyter.widget-view+json": {
           "model_id": "61ccf82c52184e68afed6999a046c2b3",
           "version_major": 2,
           "version_minor": 0
          },
          "text/plain": "Output()"
         },
         "metadata": {},
         "output_type": "display_data"
        }
       ]
      }
     },
     "756bbb0ab2af4c2486530de69232f0dd": {
      "model_module": "@jupyter-widgets/base",
      "model_module_version": "1.2.0",
      "model_name": "LayoutModel",
      "state": {}
     },
     "76639afba39d412cacdcde93951748ea": {
      "model_module": "@jupyter-widgets/controls",
      "model_module_version": "1.5.0",
      "model_name": "ButtonStyleModel",
      "state": {}
     },
     "77c19ca062cc4808b31f24a448d312c3": {
      "model_module": "@jupyter-widgets/base",
      "model_module_version": "1.2.0",
      "model_name": "LayoutModel",
      "state": {}
     },
     "78c7d654ce26431698189c18d4978619": {
      "model_module": "@jupyter-widgets/base",
      "model_module_version": "1.2.0",
      "model_name": "LayoutModel",
      "state": {}
     },
     "7d38d240afd143fc9f30f658b19cfde9": {
      "model_module": "@jupyter-widgets/output",
      "model_module_version": "1.0.0",
      "model_name": "OutputModel",
      "state": {
       "layout": "IPY_MODEL_9fa2e29c074f4db7b1e2b29920bf9562"
      }
     },
     "7e4ad3c81e4d427899b02a55f07039a3": {
      "model_module": "@jupyter-widgets/base",
      "model_module_version": "1.2.0",
      "model_name": "LayoutModel",
      "state": {}
     },
     "7f04c7f285714d33ab9b31a05bae23b9": {
      "model_module": "@jupyter-widgets/base",
      "model_module_version": "1.2.0",
      "model_name": "LayoutModel",
      "state": {}
     },
     "8323c7aa1eac4ebd8a5cdc8ff42e4d89": {
      "model_module": "@jupyter-widgets/output",
      "model_module_version": "1.0.0",
      "model_name": "OutputModel",
      "state": {
       "layout": "IPY_MODEL_ca31e79439354fcebc74413737f5c5bf",
       "outputs": [
        {
         "data": {
          "text/markdown": "# Welcome to CyberGIS-Compute",
          "text/plain": "<IPython.core.display.Markdown object>"
         },
         "metadata": {},
         "output_type": "display_data"
        },
        {
         "data": {
          "text/markdown": "A scalable middleware framework for enabling high-performance and data-intensive geospatial research and education on CyberGIS-Jupyter",
          "text/plain": "<IPython.core.display.Markdown object>"
         },
         "metadata": {},
         "output_type": "display_data"
        },
        {
         "data": {
          "text/markdown": "***",
          "text/plain": "<IPython.core.display.Markdown object>"
         },
         "metadata": {},
         "output_type": "display_data"
        },
        {
         "data": {
          "application/vnd.jupyter.widget-view+json": {
           "model_id": "1337c0137692483796f8f724a0e9b030",
           "version_major": 2,
           "version_minor": 0
          },
          "text/plain": "Output()"
         },
         "metadata": {},
         "output_type": "display_data"
        },
        {
         "data": {
          "application/vnd.jupyter.widget-view+json": {
           "model_id": "b6ab7a7c2f674bf7af68f3b44780551e",
           "version_major": 2,
           "version_minor": 0
          },
          "text/plain": "Output()"
         },
         "metadata": {},
         "output_type": "display_data"
        },
        {
         "data": {
          "application/vnd.jupyter.widget-view+json": {
           "model_id": "3b36ef027ab7460f95a87b93a798f344",
           "version_major": 2,
           "version_minor": 0
          },
          "text/plain": "Output()"
         },
         "metadata": {},
         "output_type": "display_data"
        },
        {
         "data": {
          "application/vnd.jupyter.widget-view+json": {
           "model_id": "0313661217494091a85699e6ab4f4c7c",
           "version_major": 2,
           "version_minor": 0
          },
          "text/plain": "Output()"
         },
         "metadata": {},
         "output_type": "display_data"
        },
        {
         "data": {
          "application/vnd.jupyter.widget-view+json": {
           "model_id": "2262ea6ae2f34b1a8911069a91d3ff49",
           "version_major": 2,
           "version_minor": 0
          },
          "text/plain": "Output()"
         },
         "metadata": {},
         "output_type": "display_data"
        },
        {
         "data": {
          "application/vnd.jupyter.widget-view+json": {
           "model_id": "8f0ab1ca1d6247a3befbe2e95d88403d",
           "version_major": 2,
           "version_minor": 0
          },
          "text/plain": "Output()"
         },
         "metadata": {},
         "output_type": "display_data"
        },
        {
         "data": {
          "application/vnd.jupyter.widget-view+json": {
           "model_id": "cff1a98b917545d389293959bf6a322b",
           "version_major": 2,
           "version_minor": 0
          },
          "text/plain": "Output()"
         },
         "metadata": {},
         "output_type": "display_data"
        },
        {
         "data": {
          "application/vnd.jupyter.widget-view+json": {
           "model_id": "3190a2e694d0422a9ee279985b9d8032",
           "version_major": 2,
           "version_minor": 0
          },
          "text/plain": "Output()"
         },
         "metadata": {},
         "output_type": "display_data"
        },
        {
         "data": {
          "application/vnd.jupyter.widget-view+json": {
           "model_id": "ed69c9d902184d5bb39d53a92f0e3752",
           "version_major": 2,
           "version_minor": 0
          },
          "text/plain": "Output()"
         },
         "metadata": {},
         "output_type": "display_data"
        }
       ]
      }
     },
     "89c7dcec85f644749df624c68d36d414": {
      "model_module": "@jupyter-widgets/output",
      "model_module_version": "1.0.0",
      "model_name": "OutputModel",
      "state": {
       "layout": "IPY_MODEL_507ea798ed4b48c1865f73104065c695",
       "outputs": [
        {
         "data": {
          "text/markdown": "# ✌️ Your Job is Here!",
          "text/plain": "<IPython.core.display.Markdown object>"
         },
         "metadata": {},
         "output_type": "display_data"
        },
        {
         "data": {
          "text/markdown": "| id | slurmId | hpc | remoteExecutableFolder | remoteDataFolder | remoteResultFolder | \n| --- | --- | --- | --- | --- | --- | \n| 1662232891AH8p5 | None | keeling_community | None | None | None | ",
          "text/plain": "<IPython.core.display.Markdown object>"
         },
         "metadata": {},
         "output_type": "display_data"
        },
        {
         "data": {
          "text/markdown": "| param | slurm | userId | maintainer | createdAt | modelName | \n| --- | --- | --- | --- | --- | --- | \n| {\"input_a\": 50, \"input_b\": \"foo\"} | {\"time\": \"10:00\", \"num_of_task\": 2, \"cpu_per_task\": 1} | alexandermichels@cybergisx.cigi.illinois.edu | community_contribution | 2022-09-03T19:21:30.729Z | hello_world | ",
          "text/plain": "<IPython.core.display.Markdown object>"
         },
         "metadata": {},
         "output_type": "display_data"
        }
       ]
      }
     },
     "8b5f7a49b9be45308ac7130a9c34ffb7": {
      "model_module": "@jupyter-widgets/controls",
      "model_module_version": "1.5.0",
      "model_name": "DescriptionStyleModel",
      "state": {
       "description_width": ""
      }
     },
     "8e0b0845b44446e182f6084c27277687": {
      "model_module": "@jupyter-widgets/controls",
      "model_module_version": "1.5.0",
      "model_name": "ButtonModel",
      "state": {
       "description": "Restore",
       "layout": "IPY_MODEL_98b443820ae244ef874093d702c30338",
       "style": "IPY_MODEL_6429941133a74f4ca8cc7749b69f4294"
      }
     },
     "8f0ab1ca1d6247a3befbe2e95d88403d": {
      "model_module": "@jupyter-widgets/output",
      "model_module_version": "1.0.0",
      "model_name": "OutputModel",
      "state": {
       "layout": "IPY_MODEL_77c19ca062cc4808b31f24a448d312c3"
      }
     },
     "90fdc1763b834ddd983a5e496b15389a": {
      "model_module": "@jupyter-widgets/controls",
      "model_module_version": "1.5.0",
      "model_name": "IntSliderModel",
      "state": {
       "continuous_update": false,
       "description": "input_a",
       "layout": "IPY_MODEL_ff57977ec28349a8bc7e67d744aa158d",
       "step": 10,
       "style": "IPY_MODEL_37b4fe349bf74648b8ed06b8a5006e97",
       "value": 50
      }
     },
     "917c5e71ff02478eb80be87ec7f274c2": {
      "model_module": "@jupyter-widgets/controls",
      "model_module_version": "1.5.0",
      "model_name": "DescriptionStyleModel",
      "state": {
       "description_width": "auto"
      }
     },
     "972ff845c0364a8c888a2fed0b56709e": {
      "model_module": "@jupyter-widgets/base",
      "model_module_version": "1.2.0",
      "model_name": "LayoutModel",
      "state": {}
     },
     "98b443820ae244ef874093d702c30338": {
      "model_module": "@jupyter-widgets/base",
      "model_module_version": "1.2.0",
      "model_name": "LayoutModel",
      "state": {}
     },
     "991e487e22254e6f9e283cb1913edfef": {
      "model_module": "@jupyter-widgets/base",
      "model_module_version": "1.2.0",
      "model_name": "LayoutModel",
      "state": {}
     },
     "9e47465a64b146e189bc34f3ec8b2dfa": {
      "model_module": "@jupyter-widgets/controls",
      "model_module_version": "1.5.0",
      "model_name": "DropdownModel",
      "state": {
       "_options_labels": [
        "foo",
        "bar"
       ],
       "description": "input_b",
       "index": 0,
       "layout": "IPY_MODEL_f073603213ba46f68c34f04afbd71302",
       "style": "IPY_MODEL_e48e87b54c5f44c7ba253e9c672125e5"
      }
     },
     "9f4290479819451f86f6fa00c478df85": {
      "model_module": "@jupyter-widgets/base",
      "model_module_version": "1.2.0",
      "model_name": "LayoutModel",
      "state": {}
     },
     "9fa2e29c074f4db7b1e2b29920bf9562": {
      "model_module": "@jupyter-widgets/base",
      "model_module_version": "1.2.0",
      "model_name": "LayoutModel",
      "state": {}
     },
     "a35b479ac4154a2fac8465aef7a449f8": {
      "model_module": "@jupyter-widgets/controls",
      "model_module_version": "1.5.0",
      "model_name": "ButtonStyleModel",
      "state": {}
     },
     "a714559921674a498ead4ec955dda40a": {
      "model_module": "@jupyter-widgets/controls",
      "model_module_version": "1.5.0",
      "model_name": "ButtonModel",
      "state": {
       "description": "Load More",
       "layout": "IPY_MODEL_756bbb0ab2af4c2486530de69232f0dd",
       "style": "IPY_MODEL_6b2a3fb3d62949d495bddf428fbe2ad4"
      }
     },
     "a97f5fc50bd5426682010f8b931e24cd": {
      "model_module": "@jupyter-widgets/controls",
      "model_module_version": "1.5.0",
      "model_name": "ButtonStyleModel",
      "state": {}
     },
     "aae3bd19cbc14348815dd89437140b88": {
      "model_module": "@jupyter-widgets/base",
      "model_module_version": "1.2.0",
      "model_name": "LayoutModel",
      "state": {}
     },
     "ac55fadfe0984e019815f6d3396dc023": {
      "model_module": "@jupyter-widgets/base",
      "model_module_version": "1.2.0",
      "model_name": "LayoutModel",
      "state": {}
     },
     "acd07b95c5d144cd9cc79b6b747c3567": {
      "model_module": "@jupyter-widgets/base",
      "model_module_version": "1.2.0",
      "model_name": "LayoutModel",
      "state": {}
     },
     "ad71c0843c2942e2900fc5f910cc8fdf": {
      "model_module": "@jupyter-widgets/controls",
      "model_module_version": "1.5.0",
      "model_name": "ButtonStyleModel",
      "state": {}
     },
     "af372647a97c4b83b50d98567453bbf3": {
      "model_module": "@jupyter-widgets/base",
      "model_module_version": "1.2.0",
      "model_name": "LayoutModel",
      "state": {}
     },
     "b15c6f0073374f94a5ea9850ee3706d8": {
      "model_module": "@jupyter-widgets/controls",
      "model_module_version": "1.5.0",
      "model_name": "ButtonStyleModel",
      "state": {}
     },
     "b3862f4f9ae0443e99f25e930ca5b292": {
      "model_module": "@jupyter-widgets/controls",
      "model_module_version": "1.5.0",
      "model_name": "ButtonModel",
      "state": {
       "description": "Submit Job",
       "layout": "IPY_MODEL_5922684f84234961a8184801e47eff56",
       "style": "IPY_MODEL_6bd464682e89478a8b8922900841778b"
      }
     },
     "b418c62073024361a502b1d7f4825d97": {
      "model_module": "@jupyter-widgets/controls",
      "model_module_version": "1.5.0",
      "model_name": "ButtonModel",
      "state": {
       "description": "Submit New Job",
       "layout": "IPY_MODEL_2e30dd0cfc7f4ea1b14aef55c16c666a",
       "style": "IPY_MODEL_09bc19be0023454a86c7ab755062bfce"
      }
     },
     "b5fcc370ab0747d294fd16094f7d73dd": {
      "model_module": "@jupyter-widgets/base",
      "model_module_version": "1.2.0",
      "model_name": "LayoutModel",
      "state": {}
     },
     "b6ab7a7c2f674bf7af68f3b44780551e": {
      "model_module": "@jupyter-widgets/output",
      "model_module_version": "1.0.0",
      "model_name": "OutputModel",
      "state": {
       "layout": "IPY_MODEL_7f04c7f285714d33ab9b31a05bae23b9",
       "outputs": [
        {
         "data": {
          "text/markdown": "**hello_world Job Description:** none",
          "text/plain": "<IPython.core.display.Markdown object>"
         },
         "metadata": {},
         "output_type": "display_data"
        },
        {
         "data": {
          "text/markdown": "**keeling_community HPC Description**: none",
          "text/plain": "<IPython.core.display.Markdown object>"
         },
         "metadata": {},
         "output_type": "display_data"
        },
        {
         "data": {
          "text/markdown": "**Estimated Runtime:** unknown",
          "text/plain": "<IPython.core.display.Markdown object>"
         },
         "metadata": {},
         "output_type": "display_data"
        }
       ]
      }
     },
     "b6d01ed816be4b05b7db7b8061d3f408": {
      "model_module": "@jupyter-widgets/output",
      "model_module_version": "1.0.0",
      "model_name": "OutputModel",
      "state": {
       "layout": "IPY_MODEL_018258b76920445eb7dfcbd7799d9d5e",
       "outputs": [
        {
         "name": "stdout",
         "output_type": "stream",
         "text": "\u001b[H\u001b[2J📮 Job ID: 1662232891AH8p5\n🤖 Slurm ID: 913912\n"
        },
        {
         "data": {
          "text/markdown": "| message | time | \n| --- | --- | \n| running setup...\nBASH_FUNC_module()=() {  eval `/usr/bin/modulecmd bash $*`\n}\nSHELL=/bin/bash\nPMI_SIZE=2\nSLURM_STEP_NUM_TASKS=2\nPMI_FD=13\nSLURM_JOB_USER=cigi-gisolve\nSLURM_TASKS_PER_NODE=2\nSLURM_JOB_UID=2778811\nHISTCONTROL=ignoredups\nSLURM_CPU_BIND=quiet,mask_cpu:0x20,0x80\nSLURM_TASK_PID=17379\nresult_folder=/job/result\nSLURM_LOCALID=1\nSLURM_SUBMIT_DIR=/data/cigi/scratch/cigi-gisolve/16622328929OHyW\nSLURM_CPU_BIND_VERBOSE=quiet\nHISTSIZE=1000\nHOSTNAME=keeling-f03\nPYTHON_VERSION=3.6.14\nSINGULARITY_...[download for full log] | 2022-09-03T19:21:40.030Z | \n| ModuleCmd_Use.c(231):ERROR:64: Directory 'gnu/openmpi-4.1.2-gnu-4.8.5' not found\n | 2022-09-03T19:21:40.032Z | ",
          "text/plain": "<IPython.core.display.Markdown object>"
         },
         "metadata": {},
         "output_type": "display_data"
        },
        {
         "data": {
          "text/markdown": "***",
          "text/plain": "<IPython.core.display.Markdown object>"
         },
         "metadata": {},
         "output_type": "display_data"
        },
        {
         "data": {
          "text/markdown": "## ✅ your job completed",
          "text/plain": "<IPython.core.display.Markdown object>"
         },
         "metadata": {},
         "output_type": "display_data"
        }
       ]
      }
     },
     "b7dad9940db546229b38a8bddf399b20": {
      "model_module": "@jupyter-widgets/base",
      "model_module_version": "1.2.0",
      "model_name": "LayoutModel",
      "state": {}
     },
     "bad0014e6e174460b8ca214b32137ffd": {
      "model_module": "@jupyter-widgets/base",
      "model_module_version": "1.2.0",
      "model_name": "LayoutModel",
      "state": {}
     },
     "bd9334d060334f31b3bbdddcadac043f": {
      "model_module": "@jupyter-widgets/controls",
      "model_module_version": "1.5.0",
      "model_name": "TabModel",
      "state": {
       "_titles": {
        "0": "✅ Your Job Status",
        "1": "⏳ Your Job Status",
        "2": "✅ Download Job Result",
        "3": "Your Jobs"
       },
       "children": [
        "IPY_MODEL_8323c7aa1eac4ebd8a5cdc8ff42e4d89",
        "IPY_MODEL_3bcac76de11342d3919a6e7e19fb2881",
        "IPY_MODEL_7472d39e87264124a59d906358130db8",
        "IPY_MODEL_2675b7e2cb7545e9a3b5ffb47213f801"
       ],
       "layout": "IPY_MODEL_1f1c446717e9426b83c2abdcf3083c5d"
      }
     },
     "be5f71b9a799400b8c321001d6ba98fa": {
      "model_module": "@jupyter-widgets/controls",
      "model_module_version": "1.5.0",
      "model_name": "ButtonModel",
      "state": {
       "description": "Restore",
       "layout": "IPY_MODEL_991e487e22254e6f9e283cb1913edfef",
       "style": "IPY_MODEL_a97f5fc50bd5426682010f8b931e24cd"
      }
     },
     "bfa1bfdd17b045dca496eeb33f4bda28": {
      "model_module": "@jupyter-widgets/controls",
      "model_module_version": "1.5.0",
      "model_name": "DescriptionStyleModel",
      "state": {
       "description_width": "auto"
      }
     },
     "c42b07fd81a84704a9127666e5233a3c": {
      "model_module": "@jupyter-widgets/controls",
      "model_module_version": "1.5.0",
      "model_name": "ButtonModel",
      "state": {
       "description": "Restore",
       "layout": "IPY_MODEL_e964f026767a4ff7a018f5ed095a4ab8",
       "style": "IPY_MODEL_26ca9795c1cb4ad88d0219f08eccb23b"
      }
     },
     "c588c8c40a0c401ea2c1da59290ab24f": {
      "model_module": "@jupyter-widgets/controls",
      "model_module_version": "1.5.0",
      "model_name": "VBoxModel",
      "state": {
       "children": [
        "IPY_MODEL_6f1606e72e1a4d119f0b887e5496f23f",
        "IPY_MODEL_476e47230217441ca971aed0cde5bb8f"
       ],
       "layout": "IPY_MODEL_f702262e467c43d095cabfaaab504787"
      }
     },
     "c599c5c5e6794b6ba92d70a607501d1f": {
      "model_module": "@jupyter-widgets/controls",
      "model_module_version": "1.5.0",
      "model_name": "DropdownModel",
      "state": {
       "_options_labels": [
        "keeling_community"
       ],
       "description": "🖥 Computing Resource:",
       "index": 0,
       "layout": "IPY_MODEL_ff57977ec28349a8bc7e67d744aa158d",
       "style": "IPY_MODEL_cf01cd89f42b4937ae9e656f6e6d4d83"
      }
     },
     "c701b466a9f4419787d5d5ded866711e": {
      "model_module": "@jupyter-widgets/base",
      "model_module_version": "1.2.0",
      "model_name": "LayoutModel",
      "state": {}
     },
     "ca31e79439354fcebc74413737f5c5bf": {
      "model_module": "@jupyter-widgets/base",
      "model_module_version": "1.2.0",
      "model_name": "LayoutModel",
      "state": {}
     },
     "cb77771b3b6d4ce490826562528e36d8": {
      "model_module": "@jupyter-widgets/base",
      "model_module_version": "1.2.0",
      "model_name": "LayoutModel",
      "state": {}
     },
     "cbeac4fe89fb4754b7fdc2504558dad8": {
      "model_module": "@jupyter-widgets/controls",
      "model_module_version": "1.5.0",
      "model_name": "DropdownModel",
      "state": {
       "_options_labels": [
        "wrfhydro-5.x",
        "summa3",
        "Subset_AORC_Forcing_Data_Processor",
        "pysal-access",
        "mpi-test",
        "hello_world",
        "Extract_Inundation_Census_Tracts_Processor",
        "ERA5_Connector",
        "data_fusion",
        "Dam_Flood_Inundation_Map_Connector",
        "CUAHSI_Subsetter_Connector",
        "covid-access"
       ],
       "description": "📦 Job Templates:",
       "index": 5,
       "layout": "IPY_MODEL_ff57977ec28349a8bc7e67d744aa158d",
       "style": "IPY_MODEL_53f2957fb4b0478d983756bfd9547e7d"
      }
     },
     "cd3b32fa19674a9fbac8cf19716d258c": {
      "model_module": "@jupyter-widgets/controls",
      "model_module_version": "1.5.0",
      "model_name": "ButtonModel",
      "state": {
       "description": "Restore",
       "layout": "IPY_MODEL_cb77771b3b6d4ce490826562528e36d8",
       "style": "IPY_MODEL_e4c68a81432b4d2388d6734ff425f53a"
      }
     },
     "ce52b76768504fb789857c0437d7c060": {
      "model_module": "@jupyter-widgets/controls",
      "model_module_version": "1.5.0",
      "model_name": "ButtonModel",
      "state": {
       "description": "Restore",
       "layout": "IPY_MODEL_184436cf90914fb09615dfde62103022",
       "style": "IPY_MODEL_ad71c0843c2942e2900fc5f910cc8fdf"
      }
     },
     "cf01cd89f42b4937ae9e656f6e6d4d83": {
      "model_module": "@jupyter-widgets/controls",
      "model_module_version": "1.5.0",
      "model_name": "DescriptionStyleModel",
      "state": {
       "description_width": "auto"
      }
     },
     "cff1a98b917545d389293959bf6a322b": {
      "model_module": "@jupyter-widgets/output",
      "model_module_version": "1.0.0",
      "model_name": "OutputModel",
      "state": {
       "layout": "IPY_MODEL_acd07b95c5d144cd9cc79b6b747c3567",
       "outputs": [
        {
         "data": {
          "application/vnd.jupyter.widget-view+json": {
           "model_id": "5bfd2aad634a46b699be802d0c80dfbd",
           "version_major": 2,
           "version_minor": 0
          },
          "text/plain": "HBox(children=(Checkbox(value=False, description='receive email on job status? ', style=DescriptionStyle(descr…"
         },
         "metadata": {},
         "output_type": "display_data"
        }
       ]
      }
     },
     "d00789fa87dc4d5b9d0fd81bac847101": {
      "model_module": "@jupyter-widgets/controls",
      "model_module_version": "1.5.0",
      "model_name": "DescriptionStyleModel",
      "state": {
       "description_width": ""
      }
     },
     "d636f166b8c041e18301c090f245fb18": {
      "model_module": "@jupyter-widgets/controls",
      "model_module_version": "1.5.0",
      "model_name": "ButtonStyleModel",
      "state": {}
     },
     "d75a5e7c4b1e44c399de820789dde269": {
      "model_module": "@jupyter-widgets/base",
      "model_module_version": "1.2.0",
      "model_name": "LayoutModel",
      "state": {}
     },
     "d84174a712344e9b9394f9b31dd94b99": {
      "model_module": "@jupyter-widgets/base",
      "model_module_version": "1.2.0",
      "model_name": "LayoutModel",
      "state": {}
     },
     "dad2d415bf3f4927b9bb1a3d5087bbd6": {
      "model_module": "@jupyter-widgets/controls",
      "model_module_version": "1.5.0",
      "model_name": "ButtonModel",
      "state": {
       "description": "Restore",
       "layout": "IPY_MODEL_49d1dbb13b4b43d695612f50358973e2",
       "style": "IPY_MODEL_a35b479ac4154a2fac8465aef7a449f8"
      }
     },
     "dee35bbfb51049778888b46095d9cb1f": {
      "model_module": "@jupyter-widgets/controls",
      "model_module_version": "1.5.0",
      "model_name": "SliderStyleModel",
      "state": {
       "description_width": "auto"
      }
     },
     "e0a095d085f146eda759d80e1760b197": {
      "model_module": "@jupyter-widgets/base",
      "model_module_version": "1.2.0",
      "model_name": "LayoutModel",
      "state": {}
     },
     "e234b47d40de4d6c849b254ef2f9b223": {
      "model_module": "@jupyter-widgets/controls",
      "model_module_version": "1.5.0",
      "model_name": "ButtonModel",
      "state": {
       "description": "Submit New Job",
       "layout": "IPY_MODEL_3f686d218b864bfcb244c8e1b4ff9034",
       "style": "IPY_MODEL_d636f166b8c041e18301c090f245fb18"
      }
     },
     "e28457b5a9e54de9aa6f3286b45df08c": {
      "model_module": "@jupyter-widgets/controls",
      "model_module_version": "1.5.0",
      "model_name": "IntSliderModel",
      "state": {
       "continuous_update": false,
       "description": "time (Minutes)",
       "layout": "IPY_MODEL_ff57977ec28349a8bc7e67d744aa158d",
       "max": 50,
       "min": 10,
       "style": "IPY_MODEL_dee35bbfb51049778888b46095d9cb1f",
       "value": 10
      }
     },
     "e48e87b54c5f44c7ba253e9c672125e5": {
      "model_module": "@jupyter-widgets/controls",
      "model_module_version": "1.5.0",
      "model_name": "DescriptionStyleModel",
      "state": {
       "description_width": "auto"
      }
     },
     "e4c68a81432b4d2388d6734ff425f53a": {
      "model_module": "@jupyter-widgets/controls",
      "model_module_version": "1.5.0",
      "model_name": "ButtonStyleModel",
      "state": {}
     },
     "e6057c03804641a7843852500fff5769": {
      "model_module": "@jupyter-widgets/base",
      "model_module_version": "1.2.0",
      "model_name": "LayoutModel",
      "state": {}
     },
     "e767d13d507d48c7ba064b9f5c78b6e7": {
      "model_module": "@jupyter-widgets/controls",
      "model_module_version": "1.5.0",
      "model_name": "ButtonStyleModel",
      "state": {}
     },
     "e8c728af59bc45f8af0a8631255a4195": {
      "model_module": "@jupyter-widgets/output",
      "model_module_version": "1.0.0",
      "model_name": "OutputModel",
      "state": {
       "layout": "IPY_MODEL_972ff845c0364a8c888a2fed0b56709e",
       "outputs": [
        {
         "name": "stdout",
         "output_type": "stream",
         "text": "\u001b[H\u001b[2J📮 Job ID: 1662232891AH8p5\n🤖 Slurm ID: 913912\n"
        },
        {
         "data": {
          "text/markdown": "| types | message | time | \n| --- | --- | --- | \n| JOB_QUEUED | job [1662232891AH8p5] is queued, waiting for registration | 2022-09-03T19:21:30.914Z | \n| JOB_REGISTERED | job [1662232891AH8p5] is registered with the supervisor, waiting for initialization | 2022-09-03T19:21:31.802Z | \n| SLURM_SUBMIT_SUCCESS | slurm job submitted with slurm job id 913912 | 2022-09-03T19:21:36.873Z | \n| SLURM_UPLOAD_EXECUTABLE | uploading executable folder | 2022-09-03T19:21:36.877Z | \n| SSH_SCP_UPLOAD | put file from /job_supervisor/data/root/hello_world.zip to /data/keeling/a/cigi-gisolve/scratch/16622328929OHyW | 2022-09-03T19:21:36.879Z | \n| SSH_UNZIP | unzipping /data/keeling/a/cigi-gisolve/scratch/16622328929OHyW.zip to /data/keeling/a/cigi-gisolve/scratch/16622328929OHyW | 2022-09-03T19:21:36.881Z | \n| SSH_RM | removing /data/keeling/a/cigi-gisolve/scratch/16622328929OHyW.zip | 2022-09-03T19:21:36.882Z | \n| SLURM_CREATE_RESULT | create result folder | 2022-09-03T19:21:36.884Z | \n| SSH_MKDIR | removing /data/keeling/a/cigi-gisolve/scratch/1662232895gkXa1/slurm_log | 2022-09-03T19:21:36.885Z | \n| SSH_CREATE_FILE | create file to /data/keeling/a/cigi-gisolve/scratch/16622328929OHyW/job.json | 2022-09-03T19:21:36.887Z | \n| SLURM_SUBMIT | submitting slurm job | 2022-09-03T19:21:36.912Z | \n| JOB_INIT | job [1662232891AH8p5] is initialized, waiting for job completion | 2022-09-03T19:21:36.915Z | \n| JOB_ENDED | job [1662232891AH8p5] finished | 2022-09-03T19:21:40.042Z | ",
          "text/plain": "<IPython.core.display.Markdown object>"
         },
         "metadata": {},
         "output_type": "display_data"
        }
       ]
      }
     },
     "e964f026767a4ff7a018f5ed095a4ab8": {
      "model_module": "@jupyter-widgets/base",
      "model_module_version": "1.2.0",
      "model_name": "LayoutModel",
      "state": {}
     },
     "ea976836ba364e0eaa3701224abfa79c": {
      "model_module": "@jupyter-widgets/controls",
      "model_module_version": "1.5.0",
      "model_name": "DropdownModel",
      "state": {
       "_options_labels": [
        "/demo_quick_start_0",
        "/",
        "/slurm_log",
        "/demo_quick_start_1"
       ],
       "description": "select file/folder",
       "index": 0,
       "layout": "IPY_MODEL_4363217591e340beac776949b33e9a3b",
       "style": "IPY_MODEL_8b5f7a49b9be45308ac7130a9c34ffb7"
      }
     },
     "eb675e0937b44d7081b32688fc74ddd5": {
      "model_module": "@jupyter-widgets/output",
      "model_module_version": "1.0.0",
      "model_name": "OutputModel",
      "state": {
       "layout": "IPY_MODEL_5944c9505767426bb324d3a634fc278a"
      }
     },
     "ed69c9d902184d5bb39d53a92f0e3752": {
      "model_module": "@jupyter-widgets/output",
      "model_module_version": "1.0.0",
      "model_name": "OutputModel",
      "state": {
       "layout": "IPY_MODEL_48297feeca2f49aab35e5422a74e567d",
       "outputs": [
        {
         "data": {
          "application/vnd.jupyter.widget-view+json": {
           "model_id": "e234b47d40de4d6c849b254ef2f9b223",
           "version_major": 2,
           "version_minor": 0
          },
          "text/plain": "Button(description='Submit New Job', style=ButtonStyle())"
         },
         "metadata": {},
         "output_type": "display_data"
        }
       ]
      }
     },
     "ede2a4b23ed04350b252587b4426b36c": {
      "model_module": "@jupyter-widgets/base",
      "model_module_version": "1.2.0",
      "model_name": "LayoutModel",
      "state": {
       "width": "500px"
      }
     },
     "f073603213ba46f68c34f04afbd71302": {
      "model_module": "@jupyter-widgets/base",
      "model_module_version": "1.2.0",
      "model_name": "LayoutModel",
      "state": {}
     },
     "f075a3dbad914d979148b7f8b3e62df4": {
      "model_module": "@jupyter-widgets/controls",
      "model_module_version": "1.5.0",
      "model_name": "ButtonStyleModel",
      "state": {}
     },
     "f314f314cc2e42fea2a51ac80a422c59": {
      "model_module": "@jupyter-widgets/base",
      "model_module_version": "1.2.0",
      "model_name": "LayoutModel",
      "state": {}
     },
     "f3cfd86bbb3143eeba708fba2581bf6d": {
      "model_module": "@jupyter-widgets/output",
      "model_module_version": "1.0.0",
      "model_name": "OutputModel",
      "state": {
       "layout": "IPY_MODEL_3c07851aec63401ca28de2b5608fc916"
      }
     },
     "f702262e467c43d095cabfaaab504787": {
      "model_module": "@jupyter-widgets/base",
      "model_module_version": "1.2.0",
      "model_name": "LayoutModel",
      "state": {}
     },
     "f89a6f9fdef9413ea588d80b7ebeea68": {
      "model_module": "@jupyter-widgets/controls",
      "model_module_version": "1.5.0",
      "model_name": "ButtonModel",
      "state": {
       "description": "Restore",
       "layout": "IPY_MODEL_1188a8ad4cc74de68adb8e59aecc4781",
       "style": "IPY_MODEL_6c2f38da7cfa4c569b627d63804a19c0"
      }
     },
     "ff57977ec28349a8bc7e67d744aa158d": {
      "model_module": "@jupyter-widgets/base",
      "model_module_version": "1.2.0",
      "model_name": "LayoutModel",
      "state": {
       "width": "60%"
      }
     },
     "ff8840ddbcb74cf185442667f93e35e4": {
      "model_module": "@jupyter-widgets/base",
      "model_module_version": "1.2.0",
      "model_name": "LayoutModel",
      "state": {}
     }
    },
    "version_major": 2,
    "version_minor": 0
   }
  }
 },
 "nbformat": 4,
 "nbformat_minor": 4
}
